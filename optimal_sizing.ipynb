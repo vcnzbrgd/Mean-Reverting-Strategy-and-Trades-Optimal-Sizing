{
 "cells": [
  {
   "cell_type": "code",
   "execution_count": 1,
   "metadata": {},
   "outputs": [
    {
     "data": {
      "text/plain": [
       "(0.027386127875258303, -4.107919181288746)"
      ]
     },
     "execution_count": 1,
     "metadata": {},
     "output_type": "execute_result"
    }
   ],
   "source": [
    "import numpy as np\n",
    "\n",
    "# Given values\n",
    "annualized_volatility = 0.15  # 15%\n",
    "number_of_trades_per_year = 30\n",
    "sigma_stop_out = -1.5  # Stop out at -1.5 sigma\n",
    "\n",
    "# Calculating volatility per trade\n",
    "# Volatility scales with the square root of time, so we divide the annual volatility by the square root of the number of trades\n",
    "volatility_per_trade = annualized_volatility / np.sqrt(number_of_trades_per_year)\n",
    "\n",
    "# Calculating the percentage loss of AuM at a -1.5 sigma stop-out\n",
    "# This is essentially -1.5 times the volatility per trade, expressed as a percentage\n",
    "percent_loss_per_stop_out = sigma_stop_out * volatility_per_trade * 100  # Convert to percentage\n",
    "\n",
    "volatility_per_trade, percent_loss_per_stop_out\n"
   ]
  },
  {
   "cell_type": "code",
   "execution_count": 2,
   "metadata": {},
   "outputs": [
    {
     "data": {
      "text/plain": [
       "'Percentage of AuM lost per trade: -45.00%'"
      ]
     },
     "execution_count": 2,
     "metadata": {},
     "output_type": "execute_result"
    }
   ],
   "source": [
    "import numpy as np\n",
    "\n",
    "def calculate_parameters(n_trades=None, sigma_stop=None, percent_loss=None, target_annual_vol=None, trade_duration_months=1):\n",
    "    \"\"\"\n",
    "    Calculate missing parameter based on the given inputs. The function assumes one of the parameters is None and calculates it.\n",
    "    \n",
    "    :param n_trades: Number of trades per year\n",
    "    :param sigma_stop: Magnitude of the sigma stop\n",
    "    :param percent_loss: Percentage of AuM lost at each stopped trade\n",
    "    :param target_annual_vol: Target annual volatility of the portfolio\n",
    "    :param trade_duration_months: Duration of the trade in months\n",
    "    :return: Calculated value of the missing parameter\n",
    "    \"\"\"\n",
    "    \n",
    "    # Constants\n",
    "    win_rate = 0.5  # 50%\n",
    "    loss_rate = 1 - win_rate\n",
    "    trade_duration_year = trade_duration_months / 12  # Convert trade duration to fraction of year\n",
    "    \n",
    "    # If number of trades is to be calculated\n",
    "    if n_trades is None:\n",
    "        # Assuming a direct relationship between trade impact and portfolio volatility\n",
    "        # This is a simplified model and does not take into account the distribution of returns\n",
    "        # Actual implementation would require a more complex statistical model\n",
    "        trade_impact = percent_loss / sigma_stop  # Simplified assumption\n",
    "        n_trades = (target_annual_vol / (trade_impact / np.sqrt(trade_duration_year))) ** 2\n",
    "        return f\"Number of trades per year: {n_trades:.2f}\"\n",
    "    \n",
    "    # If sigma stop is to be calculated\n",
    "    if sigma_stop is None:\n",
    "        sigma_stop = percent_loss / ((target_annual_vol / np.sqrt(n_trades * trade_duration_year)) ** 2)\n",
    "        return f\"Magnitude of the sigma stop: {sigma_stop:.2f}\"\n",
    "    \n",
    "    # If percent loss is to be calculated\n",
    "    if percent_loss is None:\n",
    "        percent_loss = sigma_stop * ((target_annual_vol / np.sqrt(n_trades * trade_duration_year)) ** 2)\n",
    "        return f\"Percentage of AuM lost per trade: {percent_loss:.2f}%\"\n",
    "    \n",
    "    # If target annual volatility is to be calculated\n",
    "    if target_annual_vol is None:\n",
    "        target_annual_vol = np.sqrt(n_trades * trade_duration_year) * (percent_loss / sigma_stop)\n",
    "        return f\"Target annual volatility: {target_annual_vol:.2f}%\"\n",
    "\n",
    "# Example calculation: Calculate % of AuM lost per trade\n",
    "# Assuming 30 trades a year, aiming at a 15% annualized volatility, and stopping out at -1.5 sigma\n",
    "example_output = calculate_parameters(n_trades=30, sigma_stop=-1.5, target_annual_vol=15, trade_duration_months=3)\n",
    "example_output\n"
   ]
  },
  {
   "cell_type": "code",
   "execution_count": 6,
   "metadata": {},
   "outputs": [
    {
     "name": "stdout",
     "output_type": "stream",
     "text": [
      "Trade size: $1111.11\n"
     ]
    }
   ],
   "source": [
    "def adjust_trade_size(asset_volatility, fixed_percent_loss, target_volatility, total_aum):\n",
    "    \"\"\"\n",
    "    Calculate the trade size based on asset volatility and fixed percent loss to maintain risk levels.\n",
    "    \n",
    "    :param asset_volatility: Volatility of the asset class\n",
    "    :param fixed_percent_loss: Fixed percent of AuM to be lost at stop out\n",
    "    :param target_volatility: Target portfolio volatility\n",
    "    :param total_aum: Total Assets under Management\n",
    "    :return: Trade size as a percentage of total AuM\n",
    "    \"\"\"\n",
    "    # Simplified example to adjust trade size based on asset volatility\n",
    "    trade_risk = asset_volatility / target_volatility\n",
    "    trade_size = (fixed_percent_loss / trade_risk) * total_aum\n",
    "    return trade_size\n",
    "\n",
    "# Example: Asset with 10% volatility, aiming for 2% loss at stop, 15% target portfolio volatility, $100M AuM\n",
    "trade_size = adjust_trade_size(0.18, 0.02, 0.1, 100000)\n",
    "print(f\"Trade size: ${trade_size:.2f}\")\n"
   ]
  },
  {
   "cell_type": "code",
   "execution_count": null,
   "metadata": {},
   "outputs": [],
   "source": []
  }
 ],
 "metadata": {
  "kernelspec": {
   "display_name": "venv",
   "language": "python",
   "name": "python3"
  },
  "language_info": {
   "codemirror_mode": {
    "name": "ipython",
    "version": 3
   },
   "file_extension": ".py",
   "mimetype": "text/x-python",
   "name": "python",
   "nbconvert_exporter": "python",
   "pygments_lexer": "ipython3",
   "version": "3.9.6"
  }
 },
 "nbformat": 4,
 "nbformat_minor": 2
}
