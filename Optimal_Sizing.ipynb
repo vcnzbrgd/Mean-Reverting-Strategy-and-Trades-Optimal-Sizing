{
 "cells": [
  {
   "cell_type": "code",
   "execution_count": 1,
   "metadata": {},
   "outputs": [],
   "source": [
    "from project_lib import *"
   ]
  },
  {
   "cell_type": "code",
   "execution_count": 2,
   "metadata": {},
   "outputs": [],
   "source": [
    "DATE_OF_SIMULATION = '2022-02-20'\n",
    "SIGMA_SL = -1\n",
    "SIGMA_TP = 1.5\n",
    "MAX_TRADE_DURATION = 63\n",
    "PTF_VOL_TGT = 0.14\n",
    "AUM_LOST_SL = 0.022"
   ]
  },
  {
   "cell_type": "code",
   "execution_count": 3,
   "metadata": {},
   "outputs": [],
   "source": [
    "df = pd.read_csv('dataset_tmc.csv', parse_dates = ['Dates'], date_format = '%d/%m/%y')\n",
    "df.columns = [i.lower() for i in df.columns]\n",
    "df.columns = [i.replace(' ','_') for i in df.columns]\n",
    "df = df.set_index('dates')\n",
    "\n",
    "# Check NaNs\n",
    "if df.isna().sum().sum() != 0:\n",
    "    print('check NaNs in data')"
   ]
  },
  {
   "cell_type": "code",
   "execution_count": 8,
   "metadata": {},
   "outputs": [
    {
     "name": "stderr",
     "output_type": "stream",
     "text": [
      "100%|██████████| 200/200 [00:23<00:00,  8.66it/s]"
     ]
    },
    {
     "name": "stdout",
     "output_type": "stream",
     "text": [
      "Estimated Portfolio Volatility: 14.74% ± 2.36%\n"
     ]
    },
    {
     "name": "stderr",
     "output_type": "stream",
     "text": [
      "\n"
     ]
    }
   ],
   "source": [
    "optimal_sizing(df,\n",
    "                incipit_date = DATE_OF_SIMULATION,\n",
    "                number_of_trades = 20,\n",
    "                ptf_vol_tgt = None,\n",
    "                aum_lost_sl = 0.022,\n",
    "                sigma_sl = -1,\n",
    "                sigma_tp = 1.5,\n",
    "                max_trade_duration = 63,\n",
    "                iterations = 100)"
   ]
  },
  {
   "cell_type": "code",
   "execution_count": null,
   "metadata": {},
   "outputs": [],
   "source": []
  }
 ],
 "metadata": {
  "kernelspec": {
   "display_name": "venv",
   "language": "python",
   "name": "python3"
  },
  "language_info": {
   "codemirror_mode": {
    "name": "ipython",
    "version": 3
   },
   "file_extension": ".py",
   "mimetype": "text/x-python",
   "name": "python",
   "nbconvert_exporter": "python",
   "pygments_lexer": "ipython3",
   "version": "3.9.6"
  }
 },
 "nbformat": 4,
 "nbformat_minor": 2
}
