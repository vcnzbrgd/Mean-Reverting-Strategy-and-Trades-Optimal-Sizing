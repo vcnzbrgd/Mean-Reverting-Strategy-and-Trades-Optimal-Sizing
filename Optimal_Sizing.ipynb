{
 "cells": [
  {
   "cell_type": "code",
   "execution_count": 1,
   "metadata": {},
   "outputs": [],
   "source": [
    "from project_lib import *"
   ]
  },
  {
   "cell_type": "code",
   "execution_count": 4,
   "metadata": {},
   "outputs": [],
   "source": [
    "DATE_OF_SIMULATION = '2021-04-02'\n",
    "SIGMA_SL = -1\n",
    "SIGMA_TP = 1.5\n",
    "MAX_TRADE_DURATION = 63\n",
    "PTF_VOL_TGT = 0.15\n",
    "AUM_LOST_SL = 0.02"
   ]
  },
  {
   "cell_type": "code",
   "execution_count": 5,
   "metadata": {},
   "outputs": [],
   "source": [
    "df = pd.read_csv('dataset_tmc.csv', parse_dates = ['Dates'], date_format = '%d/%m/%y')\n",
    "df.columns = [i.lower() for i in df.columns]\n",
    "df.columns = [i.replace(' ','_') for i in df.columns]\n",
    "df = df.set_index('dates')\n",
    "\n",
    "# Check NaNs\n",
    "if df.isna().sum().sum() != 0:\n",
    "    print('check NaNs in data')"
   ]
  },
  {
   "cell_type": "markdown",
   "metadata": {},
   "source": [
    "### 1. Optimal Number of Trades\n",
    "The solution can be used as input for the other cases"
   ]
  },
  {
   "cell_type": "code",
   "execution_count": 6,
   "metadata": {},
   "outputs": [
    {
     "name": "stderr",
     "output_type": "stream",
     "text": [
      "100%|██████████| 100/100 [00:20<00:00,  5.00it/s]"
     ]
    },
    {
     "name": "stdout",
     "output_type": "stream",
     "text": [
      "Optimal Number of Trades: 35 ± 7 [with avg. portfolio volatility of 15.340000000000002%]\n"
     ]
    },
    {
     "name": "stderr",
     "output_type": "stream",
     "text": [
      "\n"
     ]
    }
   ],
   "source": [
    "optimal_sizing(df,\n",
    "                incipit_date = DATE_OF_SIMULATION,\n",
    "                number_of_trades = None,\n",
    "                ptf_vol_tgt = PTF_VOL_TGT,\n",
    "                aum_lost_sl = AUM_LOST_SL,\n",
    "                sigma_sl = SIGMA_SL,\n",
    "                sigma_tp = SIGMA_TP,\n",
    "                max_trade_duration = MAX_TRADE_DURATION,\n",
    "                iterations = 100)"
   ]
  },
  {
   "cell_type": "markdown",
   "metadata": {},
   "source": [
    "### 2. Forecasted Portfolio Annualized Vol."
   ]
  },
  {
   "cell_type": "code",
   "execution_count": 7,
   "metadata": {},
   "outputs": [
    {
     "name": "stderr",
     "output_type": "stream",
     "text": [
      "  0%|          | 0/100 [00:00<?, ?it/s]"
     ]
    },
    {
     "name": "stderr",
     "output_type": "stream",
     "text": [
      "100%|██████████| 100/100 [00:20<00:00,  4.91it/s]"
     ]
    },
    {
     "name": "stdout",
     "output_type": "stream",
     "text": [
      "Estimated Portfolio Volatility: 15.64% ± 1.92%\n"
     ]
    },
    {
     "name": "stderr",
     "output_type": "stream",
     "text": [
      "\n"
     ]
    }
   ],
   "source": [
    "optimal_sizing(df,\n",
    "                incipit_date = DATE_OF_SIMULATION,\n",
    "                number_of_trades = 35,\n",
    "                ptf_vol_tgt = None,\n",
    "                aum_lost_sl = AUM_LOST_SL,\n",
    "                sigma_sl = SIGMA_SL,\n",
    "                sigma_tp = SIGMA_TP,\n",
    "                max_trade_duration = MAX_TRADE_DURATION,\n",
    "                iterations = 100)"
   ]
  },
  {
   "cell_type": "markdown",
   "metadata": {},
   "source": [
    "### 3. Find Optimal % AuM Lost at Each Trade"
   ]
  },
  {
   "cell_type": "code",
   "execution_count": 11,
   "metadata": {},
   "outputs": [
    {
     "name": "stderr",
     "output_type": "stream",
     "text": [
      "100%|██████████| 100/100 [05:42<00:00,  3.42s/it]"
     ]
    },
    {
     "name": "stdout",
     "output_type": "stream",
     "text": [
      "Estimated %AUM lost per trade: 1.8599999999999999% ± 0.15%\n"
     ]
    },
    {
     "name": "stderr",
     "output_type": "stream",
     "text": [
      "\n"
     ]
    }
   ],
   "source": [
    "optimal_sizing(df,\n",
    "                incipit_date = DATE_OF_SIMULATION,\n",
    "                number_of_trades = 35,\n",
    "                ptf_vol_tgt = PTF_VOL_TGT,\n",
    "                aum_lost_sl = None,\n",
    "                sigma_sl = SIGMA_SL,\n",
    "                sigma_tp = SIGMA_TP,\n",
    "                max_trade_duration = MAX_TRADE_DURATION,\n",
    "                iterations = 100)"
   ]
  },
  {
   "cell_type": "markdown",
   "metadata": {},
   "source": [
    "### 4. Optimal Sigma Stop-loss"
   ]
  },
  {
   "cell_type": "code",
   "execution_count": 10,
   "metadata": {},
   "outputs": [
    {
     "name": "stderr",
     "output_type": "stream",
     "text": [
      "100%|██████████| 100/100 [11:52<00:00,  7.13s/it]"
     ]
    },
    {
     "name": "stdout",
     "output_type": "stream",
     "text": [
      "Optimal Sigma for SL: -1 ± 0 [with avg. portfolio volatility of 15.0%]\n"
     ]
    },
    {
     "name": "stderr",
     "output_type": "stream",
     "text": [
      "\n"
     ]
    }
   ],
   "source": [
    "optimal_sizing(df,\n",
    "                incipit_date = DATE_OF_SIMULATION,\n",
    "                number_of_trades = 35,\n",
    "                ptf_vol_tgt = PTF_VOL_TGT,\n",
    "                aum_lost_sl = AUM_LOST_SL,\n",
    "                sigma_sl = None,\n",
    "                sigma_tp = SIGMA_TP,\n",
    "                max_trade_duration = MAX_TRADE_DURATION,\n",
    "                iterations = 100)"
   ]
  }
 ],
 "metadata": {
  "kernelspec": {
   "display_name": "venv",
   "language": "python",
   "name": "python3"
  },
  "language_info": {
   "codemirror_mode": {
    "name": "ipython",
    "version": 3
   },
   "file_extension": ".py",
   "mimetype": "text/x-python",
   "name": "python",
   "nbconvert_exporter": "python",
   "pygments_lexer": "ipython3",
   "version": "3.9.6"
  }
 },
 "nbformat": 4,
 "nbformat_minor": 2
}
