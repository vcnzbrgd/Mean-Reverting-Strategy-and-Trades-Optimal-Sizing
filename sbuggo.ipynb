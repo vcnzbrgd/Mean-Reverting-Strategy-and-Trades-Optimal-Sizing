{
 "cells": [
  {
   "cell_type": "code",
   "execution_count": 1,
   "metadata": {},
   "outputs": [],
   "source": [
    "from optimal_sizing_library import *"
   ]
  },
  {
   "cell_type": "code",
   "execution_count": 2,
   "metadata": {},
   "outputs": [],
   "source": [
    "DATE_OF_SIMULATION = '2021-04-02'\n",
    "SIGMA_SL = -1\n",
    "SIGMA_TP = 1.5\n",
    "MAX_TRADE_DURATION = 63\n",
    "PTF_VOL_TGT = 0.15\n",
    "AUM_LOST_SL = 0.02"
   ]
  },
  {
   "cell_type": "code",
   "execution_count": 3,
   "metadata": {},
   "outputs": [],
   "source": [
    "df = pd.read_csv('dataset_tmc.csv', parse_dates = ['Dates'], date_format = '%d/%m/%y')\n",
    "df.columns = [i.lower() for i in df.columns]\n",
    "df.columns = [i.replace(' ','_') for i in df.columns]\n",
    "df = df.set_index('dates')\n",
    "\n",
    "# Check NaNs\n",
    "if df.isna().sum().sum() != 0:\n",
    "    print('check NaNs in data')"
   ]
  },
  {
   "cell_type": "code",
   "execution_count": 7,
   "metadata": {},
   "outputs": [
    {
     "name": "stderr",
     "output_type": "stream",
     "text": [
      "100%|██████████| 200/200 [02:02<00:00,  1.63it/s]"
     ]
    },
    {
     "name": "stdout",
     "output_type": "stream",
     "text": [
      "Estimated Portfolio Volatility: 13.600000000000001% ± 1.77%\n"
     ]
    },
    {
     "name": "stderr",
     "output_type": "stream",
     "text": [
      "\n"
     ]
    }
   ],
   "source": [
    "mc_fcast_ptf_volatility(df,\n",
    "                                    DATE_OF_SIMULATION,\n",
    "                                    SIGMA_SL,\n",
    "                                    SIGMA_TP,\n",
    "                                    MAX_TRADE_DURATION, \n",
    "                                    34,\n",
    "                                    AUM_LOST_SL,\n",
    "                                    iterations=100)"
   ]
  },
  {
   "cell_type": "code",
   "execution_count": null,
   "metadata": {},
   "outputs": [],
   "source": []
  }
 ],
 "metadata": {
  "kernelspec": {
   "display_name": "venv",
   "language": "python",
   "name": "python3"
  },
  "language_info": {
   "codemirror_mode": {
    "name": "ipython",
    "version": 3
   },
   "file_extension": ".py",
   "mimetype": "text/x-python",
   "name": "python",
   "nbconvert_exporter": "python",
   "pygments_lexer": "ipython3",
   "version": "3.9.6"
  }
 },
 "nbformat": 4,
 "nbformat_minor": 2
}
