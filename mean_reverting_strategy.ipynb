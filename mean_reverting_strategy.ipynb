{
 "cells": [
  {
   "cell_type": "code",
   "execution_count": 23,
   "metadata": {},
   "outputs": [],
   "source": [
    "from project_lib import *\n",
    "import itertools\n",
    "import tqdm"
   ]
  },
  {
   "cell_type": "code",
   "execution_count": 2,
   "metadata": {},
   "outputs": [],
   "source": [
    "df = pd.read_csv('dataset_tmc.csv', parse_dates = ['Dates'], date_format = '%d/%m/%y')\n",
    "df.columns = [i.lower() for i in df.columns]\n",
    "df.columns = [i.replace(' ','_') for i in df.columns]\n",
    "df = df.set_index('dates')\n",
    "\n",
    "# Check NaNs\n",
    "if df.isna().sum().sum() != 0:\n",
    "    print('check NaNs in data')\n",
    "\n",
    "# Drop Sat&Sun if any\n",
    "df = df[df.index.dayofweek<5]"
   ]
  },
  {
   "cell_type": "code",
   "execution_count": 3,
   "metadata": {},
   "outputs": [],
   "source": [
    "# STRATEGY PARAMETERS\n",
    "TRADED_SECURITIES = [\n",
    "            'us_staples',\n",
    "                'eu_healthcare', 'japan', 'brazil', 'nasdaq', 'us_2y',\n",
    "                'us_15y', 'germany_10y', 'uk_15y', 'us_hy', 'oil', 'ind_metals', 'agri',\n",
    "                'gold', 'silver', 'eurusd', 'usdjpy', 'chfjpy', 'eurbrl', 'gbpmxn'\n",
    "    ]\n",
    "\n",
    "LONG_PARAMS = {10:0.05, 21:0.15, 63:0.25} # dict with lenght of window as key and percentile for longs as values\n",
    "SHORT_PARAMS = {10:0.95, 21:0.85, 63:0.75} # dict with lenght of window as key and percentile for shorts as values\n",
    "MA_FAST_WDW = 20\n",
    "MA_SLOW_WDW = 60\n",
    "\n",
    "SUPPORTIVE_PCTL_MOVE = 0.3\n",
    "COUNTER_PCTL_MOVE = 0.2\n",
    "TRADES_MAX_DAYS = 21\n",
    "\n",
    "MAX_DOLLAR_LOSS = 100\n",
    "\n",
    "\n",
    "SIGMA_WDW = 63\n",
    "GAMMA = None"
   ]
  },
  {
   "cell_type": "code",
   "execution_count": 62,
   "metadata": {},
   "outputs": [],
   "source": [
    "def run_bt_pipeline(TRADED_SECURITIES,\n",
    "            LONG_PARAMS,\n",
    "            SHORT_PARAMS,\n",
    "            MA_FAST_WDW,\n",
    "            MA_SLOW_WDW,\n",
    "            SUPPORTIVE_PCTL_MOVE,\n",
    "            COUNTER_PCTL_MOVE,\n",
    "            TRADES_MAX_DAYS,\n",
    "            MAX_DOLLAR_LOSS,\n",
    "            SIGMA_WDW,\n",
    "            GAMMA,\n",
    "            ):\n",
    "    \"\"\"\n",
    "    Run BT pipeline\n",
    "    \"\"\"\n",
    "\n",
    "\n",
    "    # list to store all trades\n",
    "    trades_list = []\n",
    "    trades_pnl = {}\n",
    "\n",
    "    for security_id in tqdm.tqdm(TRADED_SECURITIES):\n",
    "        # generate signal based on standard strategy\n",
    "        signal_all = meanrev_signal(df[security_id],\n",
    "                                    long_params = LONG_PARAMS,\n",
    "                                    short_params = SHORT_PARAMS,\n",
    "                                    ma_fast_wdw = MA_FAST_WDW,\n",
    "                                    ma_slow_wdw = MA_SLOW_WDW\n",
    "                    )\n",
    "        \n",
    "        # compute Historical Volatility\n",
    "        hist_vol = df[security_id].pct_change().rolling(SIGMA_WDW).std() * np.sqrt(252)\n",
    "\n",
    "        # \"start your backtest at t-10\". hard coding initial date for BT (and final date to avoid missing data)\n",
    "        signal_all = signal_all.loc['2014-02-12':'2024-01-20']\n",
    "\n",
    "        # extract from all signal only the actual open buy/sell triggers\n",
    "        signal_do = signal_all[signal_all!= 0]\n",
    "\n",
    "        # iterates over all buy/sell signal and execute orders\n",
    "        for dt_open, direction in zip(signal_do.index, signal_do):\n",
    "            \n",
    "            # create a unique id for each trade\n",
    "            trade_id = security_id+'#'+str(dt_open)[:10]\n",
    "\n",
    "            # price at which the trade is open\n",
    "            price_open = df.loc[dt_open, security_id]\n",
    "\n",
    "            # compute TP/SL returns and prices\n",
    "            tp_return, sl_return = tp_sl_rule(df[security_id],\n",
    "                                                dt_open,\n",
    "                                                direction,\n",
    "                                                supportive_pctl_move = SUPPORTIVE_PCTL_MOVE,\n",
    "                                                counter_pctl_move = COUNTER_PCTL_MOVE\n",
    "                                            )\n",
    "            price_tp = price_open * (1 + tp_return*direction)\n",
    "            price_sl = price_open * (1 + sl_return*direction)\n",
    "\n",
    "            if GAMMA == None:\n",
    "                # compute the optimal sizing such that all trades loses the same amount of $ if SL is hitted\n",
    "                quantity = MAX_DOLLAR_LOSS/((price_open - price_sl)*direction)\n",
    "            else:\n",
    "                quantity = MAX_DOLLAR_LOSS/((price_open - price_sl)*direction) * (GAMMA/hist_vol.loc[dt_open])\n",
    "\n",
    "            # store all trade info in df\n",
    "            trade = pd.DataFrame({'security_id':security_id,\n",
    "                                    'dt_open':str(dt_open)[:10],\n",
    "                                    'price_open':price_open,\n",
    "                                    'direction':direction,\n",
    "                                    'quantity':quantity,\n",
    "                                    'price_tp':price_tp,\n",
    "                                    'price_sl':price_sl}, index=[trade_id])\n",
    "\n",
    "            # create a temporary df that contains prices of instrument during trade\n",
    "            dt_open_idxdf = list(df.index).index(dt_open)\n",
    "            temp_px = df[[security_id]].iloc[dt_open_idxdf + 1: dt_open_idxdf + TRADES_MAX_DAYS + 1]\n",
    "            temp_px['price_open'] = price_open\n",
    "            temp_px['direction'] = direction\n",
    "            temp_px['quantity'] = quantity\n",
    "            temp_px['price_tp'] = price_tp\n",
    "            temp_px['price_sl'] = price_sl\n",
    "\n",
    "            # Check if and when a TP/SL is triggered and cut the temporary df accordingly\n",
    "            if direction==1:\n",
    "                temp_px['tp_hitted'] = (temp_px[security_id] > temp_px['price_tp']) * 1\n",
    "                temp_px['sl_hitted'] = (temp_px[security_id] < temp_px['price_sl']) * 1\n",
    "            elif direction==-1:\n",
    "                temp_px['tp_hitted'] = (temp_px[security_id] < temp_px['price_tp']) * 1\n",
    "                temp_px['sl_hitted'] = (temp_px[security_id] > temp_px['price_sl']) * 1\n",
    "\n",
    "            temp_px['tp_sl_hitted'] = temp_px['tp_hitted'] + temp_px['sl_hitted']\n",
    "\n",
    "            if 1 in list(temp_px['tp_sl_hitted']):\n",
    "                dt_close = str(temp_px[temp_px['tp_sl_hitted']==1].index[:1][0])[:10]\n",
    "                exit_type = 'TP/SL exit'\n",
    "            else:\n",
    "                dt_close = str(list(temp_px.index)[-1:][0])[:10]\n",
    "                exit_type = 'max duration'\n",
    "\n",
    "            # cut temp_px at closing date\n",
    "            temp_px = temp_px.loc[:dt_close]\n",
    "            # compute PnL of the trade during the days it was open and append to Portfolio PnL list\n",
    "            temp_px['pnl'] = temp_px[security_id] * temp_px['quantity']\n",
    "            temp_px['daily_return'] = temp_px[security_id].pct_change().fillna(\n",
    "                temp_px[security_id].iloc[0]/temp_px['price_open'].iloc[0]-1)\n",
    "\n",
    "            # store closing price of the trade\n",
    "            price_close = temp_px.loc[dt_close, security_id]\n",
    "\n",
    "            # add closing trade date and price to trade df\n",
    "            trade['dt_close'] = dt_close\n",
    "            trade['price_close'] = price_close\n",
    "            trade['duration'] = len(temp_px)\n",
    "            trade['exit_condition'] = exit_type\n",
    "\n",
    "            # compute the annualized volatility of the trade\n",
    "            trade['ann_volatility'] = temp_px['daily_return'].std() * np.sqrt(252)\n",
    "\n",
    "            # collect trade and pnl\n",
    "            trades_list.append(trade)\n",
    "            trades_pnl[trade_id] = temp_px\n",
    "\n",
    "    # check if trades_list is non-empty\n",
    "    if len(trades_list)==0:\n",
    "        raise Exception('No trades have been executed')\n",
    "\n",
    "    trades_list = pd.concat(trades_list)\n",
    "    # compute trades' returns, sharpe 1Y and dollar value of position at each open\n",
    "    trades_list['return'] = trade_return(trades_list)\n",
    "    trades_list['daily_return'] = trades_list['return'] / trades_list['duration']\n",
    "    trades_list['sharpe_ratio'] = trades_list['daily_return']*252 / trades_list['ann_volatility']\n",
    "\n",
    "    # trim Sharpe ratio to reduce the impact of outliers on average measure\n",
    "    trim_sharpe_up = trades_list['sharpe_ratio'].quantile(0.95)\n",
    "    trim_sharpe_dwn = trades_list['sharpe_ratio'].quantile(0.05)\n",
    "    trades_list['sharpe_ratio'] = trades_list['sharpe_ratio'].mask(trades_list['sharpe_ratio'] > trim_sharpe_up, trim_sharpe_up)\n",
    "    trades_list['sharpe_ratio'] = trades_list['sharpe_ratio'].mask(trades_list['sharpe_ratio'] < trim_sharpe_dwn, trim_sharpe_dwn)\n",
    "\n",
    "    # compute the dollar value postion at open and the pseudo-weight of the trade in the portfolio \n",
    "    trades_list['position_dollar_value_open'] = trades_list['quantity']*trades_list['price_open']\n",
    "    trades_list['weight'] = (trades_list['position_dollar_value_open']*trades_list['duration']/\n",
    "        (trades_list['position_dollar_value_open']*trades_list['duration']).sum())\n",
    "\n",
    "\n",
    "    # split between TP and SL exit explicitly\n",
    "    trades_list['exit_condition'] = trades_list['exit_condition'].mask(\n",
    "        (trades_list['exit_condition']=='TP/SL exit')&(trades_list['return']>0), 'TP exit')\n",
    "    trades_list['exit_condition'] = trades_list['exit_condition'].mask(\n",
    "        (trades_list['exit_condition']=='TP/SL exit')&(trades_list['return']<0), 'SL exit')\n",
    "    \n",
    "\n",
    "    return trades_list, trades_pnl, temp_px"
   ]
  },
  {
   "cell_type": "code",
   "execution_count": 6,
   "metadata": {},
   "outputs": [
    {
     "name": "stderr",
     "output_type": "stream",
     "text": [
      "  0%|          | 0/20 [00:00<?, ?it/s]"
     ]
    },
    {
     "name": "stderr",
     "output_type": "stream",
     "text": [
      "100%|██████████| 20/20 [00:49<00:00,  2.49s/it]\n"
     ]
    }
   ],
   "source": [
    "trades_list, trades_pnl = run_bt_pipeline(TRADED_SECURITIES,\n",
    "            LONG_PARAMS,\n",
    "            SHORT_PARAMS,\n",
    "            MA_FAST_WDW,\n",
    "            MA_SLOW_WDW,\n",
    "            SUPPORTIVE_PCTL_MOVE,\n",
    "            COUNTER_PCTL_MOVE,\n",
    "            TRADES_MAX_DAYS,\n",
    "            MAX_DOLLAR_LOSS,\n",
    "            SIGMA_WDW,\n",
    "            GAMMA,\n",
    "            )\n",
    "\n",
    "strategy_sharpe = (trades_list['sharpe_ratio']*trades_list['weight']).sum()"
   ]
  },
  {
   "cell_type": "code",
   "execution_count": 39,
   "metadata": {},
   "outputs": [],
   "source": [
    "GS_long_pctle = [{10:0.1, 21:0.2, 63:0.3},\n",
    "                 {20:0.1, 40:0.2, 70:0.3},\n",
    "                 {30:0.15, 50:0.25, 100:0.35}]\n",
    "\n",
    "GS_short_pctle = [{10:1-0.1, 21:1-0.2, 63:1-0.3},\n",
    "                 {20:1-0.1, 40:1-0.2, 70:1-0.3},\n",
    "                 {30:1-0.15, 50:1-0.25, 100:1-0.35}]\n",
    "\n",
    "GS_ma_fast = [20, 30, 40, 50]\n",
    "GS_ma_slow = [80, 100, 150, 200]\n",
    "\n",
    "\n",
    "GS_PARAMS = list(itertools.product(GS_long_pctle, GS_short_pctle, GS_ma_fast, GS_ma_slow))"
   ]
  },
  {
   "cell_type": "code",
   "execution_count": 40,
   "metadata": {},
   "outputs": [
    {
     "name": "stderr",
     "output_type": "stream",
     "text": [
      "100%|██████████| 20/20 [00:51<00:00,  2.58s/it]\n"
     ]
    },
    {
     "name": "stdout",
     "output_type": "stream",
     "text": [
      "1\n"
     ]
    },
    {
     "name": "stderr",
     "output_type": "stream",
     "text": [
      "100%|██████████| 20/20 [00:48<00:00,  2.45s/it]\n"
     ]
    },
    {
     "name": "stdout",
     "output_type": "stream",
     "text": [
      "2\n"
     ]
    },
    {
     "name": "stderr",
     "output_type": "stream",
     "text": [
      "100%|██████████| 20/20 [00:44<00:00,  2.23s/it]\n"
     ]
    },
    {
     "name": "stdout",
     "output_type": "stream",
     "text": [
      "3\n"
     ]
    },
    {
     "name": "stderr",
     "output_type": "stream",
     "text": [
      "100%|██████████| 20/20 [00:42<00:00,  2.11s/it]\n"
     ]
    },
    {
     "name": "stdout",
     "output_type": "stream",
     "text": [
      "4\n"
     ]
    },
    {
     "name": "stderr",
     "output_type": "stream",
     "text": [
      "100%|██████████| 20/20 [00:52<00:00,  2.60s/it]\n"
     ]
    },
    {
     "name": "stdout",
     "output_type": "stream",
     "text": [
      "5\n"
     ]
    },
    {
     "name": "stderr",
     "output_type": "stream",
     "text": [
      "100%|██████████| 20/20 [00:49<00:00,  2.47s/it]\n"
     ]
    },
    {
     "name": "stdout",
     "output_type": "stream",
     "text": [
      "6\n"
     ]
    },
    {
     "name": "stderr",
     "output_type": "stream",
     "text": [
      "100%|██████████| 20/20 [00:45<00:00,  2.27s/it]\n"
     ]
    },
    {
     "name": "stdout",
     "output_type": "stream",
     "text": [
      "7\n"
     ]
    },
    {
     "name": "stderr",
     "output_type": "stream",
     "text": [
      "100%|██████████| 20/20 [00:41<00:00,  2.10s/it]\n"
     ]
    },
    {
     "name": "stdout",
     "output_type": "stream",
     "text": [
      "8\n"
     ]
    },
    {
     "name": "stderr",
     "output_type": "stream",
     "text": [
      "100%|██████████| 20/20 [00:52<00:00,  2.60s/it]\n"
     ]
    },
    {
     "name": "stdout",
     "output_type": "stream",
     "text": [
      "9\n"
     ]
    },
    {
     "name": "stderr",
     "output_type": "stream",
     "text": [
      "100%|██████████| 20/20 [00:50<00:00,  2.53s/it]\n"
     ]
    },
    {
     "name": "stdout",
     "output_type": "stream",
     "text": [
      "10\n"
     ]
    },
    {
     "name": "stderr",
     "output_type": "stream",
     "text": [
      "100%|██████████| 20/20 [00:45<00:00,  2.26s/it]\n"
     ]
    },
    {
     "name": "stdout",
     "output_type": "stream",
     "text": [
      "11\n"
     ]
    },
    {
     "name": "stderr",
     "output_type": "stream",
     "text": [
      "100%|██████████| 20/20 [00:41<00:00,  2.10s/it]\n"
     ]
    },
    {
     "name": "stdout",
     "output_type": "stream",
     "text": [
      "12\n"
     ]
    },
    {
     "name": "stderr",
     "output_type": "stream",
     "text": [
      "100%|██████████| 20/20 [00:51<00:00,  2.59s/it]\n"
     ]
    },
    {
     "name": "stdout",
     "output_type": "stream",
     "text": [
      "13\n"
     ]
    },
    {
     "name": "stderr",
     "output_type": "stream",
     "text": [
      "100%|██████████| 20/20 [00:50<00:00,  2.52s/it]\n"
     ]
    },
    {
     "name": "stdout",
     "output_type": "stream",
     "text": [
      "14\n"
     ]
    },
    {
     "name": "stderr",
     "output_type": "stream",
     "text": [
      "100%|██████████| 20/20 [00:44<00:00,  2.24s/it]\n"
     ]
    },
    {
     "name": "stdout",
     "output_type": "stream",
     "text": [
      "15\n"
     ]
    },
    {
     "name": "stderr",
     "output_type": "stream",
     "text": [
      "100%|██████████| 20/20 [00:43<00:00,  2.16s/it]\n"
     ]
    },
    {
     "name": "stdout",
     "output_type": "stream",
     "text": [
      "16\n"
     ]
    },
    {
     "name": "stderr",
     "output_type": "stream",
     "text": [
      " 20%|██        | 4/20 [00:15<01:03,  3.97s/it]\n"
     ]
    },
    {
     "ename": "IndexError",
     "evalue": "list index out of range",
     "output_type": "error",
     "traceback": [
      "\u001b[0;31m---------------------------------------------------------------------------\u001b[0m",
      "\u001b[0;31mIndexError\u001b[0m                                Traceback (most recent call last)",
      "Cell \u001b[0;32mIn[40], line 5\u001b[0m\n\u001b[1;32m      2\u001b[0m idx_gs \u001b[38;5;241m=\u001b[39m \u001b[38;5;241m0\u001b[39m\n\u001b[1;32m      4\u001b[0m \u001b[38;5;28;01mfor\u001b[39;00m gsp \u001b[38;5;129;01min\u001b[39;00m GS_PARAMS:\n\u001b[0;32m----> 5\u001b[0m     trades_list, trades_pnl \u001b[38;5;241m=\u001b[39m \u001b[43mrun_bt_pipeline\u001b[49m\u001b[43m(\u001b[49m\u001b[43mTRADED_SECURITIES\u001b[49m\u001b[43m,\u001b[49m\n\u001b[1;32m      6\u001b[0m \u001b[43m            \u001b[49m\u001b[43mgsp\u001b[49m\u001b[43m[\u001b[49m\u001b[38;5;241;43m0\u001b[39;49m\u001b[43m]\u001b[49m\u001b[43m,\u001b[49m\n\u001b[1;32m      7\u001b[0m \u001b[43m            \u001b[49m\u001b[43mgsp\u001b[49m\u001b[43m[\u001b[49m\u001b[38;5;241;43m1\u001b[39;49m\u001b[43m]\u001b[49m\u001b[43m,\u001b[49m\n\u001b[1;32m      8\u001b[0m \u001b[43m            \u001b[49m\u001b[43mgsp\u001b[49m\u001b[43m[\u001b[49m\u001b[38;5;241;43m2\u001b[39;49m\u001b[43m]\u001b[49m\u001b[43m,\u001b[49m\n\u001b[1;32m      9\u001b[0m \u001b[43m            \u001b[49m\u001b[43mgsp\u001b[49m\u001b[43m[\u001b[49m\u001b[38;5;241;43m3\u001b[39;49m\u001b[43m]\u001b[49m\u001b[43m,\u001b[49m\n\u001b[1;32m     10\u001b[0m \u001b[43m            \u001b[49m\u001b[43mSUPPORTIVE_PCTL_MOVE\u001b[49m\u001b[43m,\u001b[49m\n\u001b[1;32m     11\u001b[0m \u001b[43m            \u001b[49m\u001b[43mCOUNTER_PCTL_MOVE\u001b[49m\u001b[43m,\u001b[49m\n\u001b[1;32m     12\u001b[0m \u001b[43m            \u001b[49m\u001b[43mTRADES_MAX_DAYS\u001b[49m\u001b[43m,\u001b[49m\n\u001b[1;32m     13\u001b[0m \u001b[43m            \u001b[49m\u001b[43mMAX_DOLLAR_LOSS\u001b[49m\u001b[43m,\u001b[49m\n\u001b[1;32m     14\u001b[0m \u001b[43m            \u001b[49m\u001b[43mSIGMA_WDW\u001b[49m\u001b[43m,\u001b[49m\n\u001b[1;32m     15\u001b[0m \u001b[43m            \u001b[49m\u001b[43mGAMMA\u001b[49m\u001b[43m,\u001b[49m\n\u001b[1;32m     16\u001b[0m \u001b[43m            \u001b[49m\u001b[43m)\u001b[49m\n\u001b[1;32m     18\u001b[0m     sharpe_gs_ptf[idx_gs] \u001b[38;5;241m=\u001b[39m (trades_list[\u001b[38;5;124m'\u001b[39m\u001b[38;5;124msharpe_ratio\u001b[39m\u001b[38;5;124m'\u001b[39m]\u001b[38;5;241m*\u001b[39mtrades_list[\u001b[38;5;124m'\u001b[39m\u001b[38;5;124mweight\u001b[39m\u001b[38;5;124m'\u001b[39m])\u001b[38;5;241m.\u001b[39msum()\n\u001b[1;32m     19\u001b[0m     idx_gs \u001b[38;5;241m+\u001b[39m\u001b[38;5;241m=\u001b[39m\u001b[38;5;241m1\u001b[39m\n",
      "Cell \u001b[0;32mIn[4], line 97\u001b[0m, in \u001b[0;36mrun_bt_pipeline\u001b[0;34m(TRADED_SECURITIES, LONG_PARAMS, SHORT_PARAMS, MA_FAST_WDW, MA_SLOW_WDW, SUPPORTIVE_PCTL_MOVE, COUNTER_PCTL_MOVE, TRADES_MAX_DAYS, MAX_DOLLAR_LOSS, SIGMA_WDW, GAMMA)\u001b[0m\n\u001b[1;32m     95\u001b[0m     exit_type \u001b[38;5;241m=\u001b[39m \u001b[38;5;124m'\u001b[39m\u001b[38;5;124mTP/SL exit\u001b[39m\u001b[38;5;124m'\u001b[39m\n\u001b[1;32m     96\u001b[0m \u001b[38;5;28;01melse\u001b[39;00m:\n\u001b[0;32m---> 97\u001b[0m     dt_close \u001b[38;5;241m=\u001b[39m \u001b[38;5;28mstr\u001b[39m(\u001b[38;5;28;43mlist\u001b[39;49m\u001b[43m(\u001b[49m\u001b[43mtemp_px\u001b[49m\u001b[38;5;241;43m.\u001b[39;49m\u001b[43mindex\u001b[49m\u001b[43m)\u001b[49m\u001b[43m[\u001b[49m\u001b[38;5;241;43m-\u001b[39;49m\u001b[38;5;241;43m1\u001b[39;49m\u001b[43m:\u001b[49m\u001b[43m]\u001b[49m\u001b[43m[\u001b[49m\u001b[38;5;241;43m0\u001b[39;49m\u001b[43m]\u001b[49m)[:\u001b[38;5;241m10\u001b[39m]\n\u001b[1;32m     98\u001b[0m     exit_type \u001b[38;5;241m=\u001b[39m \u001b[38;5;124m'\u001b[39m\u001b[38;5;124mmax duration\u001b[39m\u001b[38;5;124m'\u001b[39m\n\u001b[1;32m    100\u001b[0m \u001b[38;5;66;03m# cut temp_px at closing date\u001b[39;00m\n",
      "\u001b[0;31mIndexError\u001b[0m: list index out of range"
     ]
    }
   ],
   "source": [
    "sharpe_gs_ptf = {}\n",
    "idx_gs = 0\n",
    "\n",
    "for gsp in GS_PARAMS:\n",
    "    trades_list, trades_pnl = run_bt_pipeline(TRADED_SECURITIES,\n",
    "            gsp[0],\n",
    "            gsp[1],\n",
    "            gsp[2],\n",
    "            gsp[3],\n",
    "            SUPPORTIVE_PCTL_MOVE,\n",
    "            COUNTER_PCTL_MOVE,\n",
    "            TRADES_MAX_DAYS,\n",
    "            MAX_DOLLAR_LOSS,\n",
    "            SIGMA_WDW,\n",
    "            GAMMA,\n",
    "            )\n",
    "    \n",
    "    sharpe_gs_ptf[idx_gs] = (trades_list['sharpe_ratio']*trades_list['weight']).sum()\n",
    "    idx_gs +=1\n",
    "    print(idx_gs)"
   ]
  },
  {
   "cell_type": "code",
   "execution_count": 41,
   "metadata": {},
   "outputs": [
    {
     "data": {
      "text/html": [
       "<div>\n",
       "<style scoped>\n",
       "    .dataframe tbody tr th:only-of-type {\n",
       "        vertical-align: middle;\n",
       "    }\n",
       "\n",
       "    .dataframe tbody tr th {\n",
       "        vertical-align: top;\n",
       "    }\n",
       "\n",
       "    .dataframe thead th {\n",
       "        text-align: right;\n",
       "    }\n",
       "</style>\n",
       "<table border=\"1\" class=\"dataframe\">\n",
       "  <thead>\n",
       "    <tr style=\"text-align: right;\">\n",
       "      <th></th>\n",
       "      <th>sharpe_gs</th>\n",
       "    </tr>\n",
       "  </thead>\n",
       "  <tbody>\n",
       "    <tr>\n",
       "      <th>0</th>\n",
       "      <td>0.899956</td>\n",
       "    </tr>\n",
       "    <tr>\n",
       "      <th>1</th>\n",
       "      <td>0.850674</td>\n",
       "    </tr>\n",
       "    <tr>\n",
       "      <th>2</th>\n",
       "      <td>0.680418</td>\n",
       "    </tr>\n",
       "    <tr>\n",
       "      <th>3</th>\n",
       "      <td>0.647604</td>\n",
       "    </tr>\n",
       "    <tr>\n",
       "      <th>4</th>\n",
       "      <td>0.904054</td>\n",
       "    </tr>\n",
       "    <tr>\n",
       "      <th>5</th>\n",
       "      <td>0.855044</td>\n",
       "    </tr>\n",
       "    <tr>\n",
       "      <th>6</th>\n",
       "      <td>0.683652</td>\n",
       "    </tr>\n",
       "    <tr>\n",
       "      <th>7</th>\n",
       "      <td>0.651959</td>\n",
       "    </tr>\n",
       "    <tr>\n",
       "      <th>8</th>\n",
       "      <td>0.893307</td>\n",
       "    </tr>\n",
       "    <tr>\n",
       "      <th>9</th>\n",
       "      <td>0.847887</td>\n",
       "    </tr>\n",
       "    <tr>\n",
       "      <th>10</th>\n",
       "      <td>0.675942</td>\n",
       "    </tr>\n",
       "    <tr>\n",
       "      <th>11</th>\n",
       "      <td>0.647343</td>\n",
       "    </tr>\n",
       "    <tr>\n",
       "      <th>12</th>\n",
       "      <td>0.898891</td>\n",
       "    </tr>\n",
       "    <tr>\n",
       "      <th>13</th>\n",
       "      <td>0.849698</td>\n",
       "    </tr>\n",
       "    <tr>\n",
       "      <th>14</th>\n",
       "      <td>0.679567</td>\n",
       "    </tr>\n",
       "    <tr>\n",
       "      <th>15</th>\n",
       "      <td>0.646518</td>\n",
       "    </tr>\n",
       "  </tbody>\n",
       "</table>\n",
       "</div>"
      ],
      "text/plain": [
       "    sharpe_gs\n",
       "0    0.899956\n",
       "1    0.850674\n",
       "2    0.680418\n",
       "3    0.647604\n",
       "4    0.904054\n",
       "5    0.855044\n",
       "6    0.683652\n",
       "7    0.651959\n",
       "8    0.893307\n",
       "9    0.847887\n",
       "10   0.675942\n",
       "11   0.647343\n",
       "12   0.898891\n",
       "13   0.849698\n",
       "14   0.679567\n",
       "15   0.646518"
      ]
     },
     "execution_count": 41,
     "metadata": {},
     "output_type": "execute_result"
    }
   ],
   "source": [
    "pd.DataFrame(sharpe_gs_ptf, index=['sharpe_gs']).T"
   ]
  },
  {
   "cell_type": "code",
   "execution_count": null,
   "metadata": {},
   "outputs": [],
   "source": []
  },
  {
   "cell_type": "code",
   "execution_count": null,
   "metadata": {},
   "outputs": [],
   "source": []
  },
  {
   "cell_type": "code",
   "execution_count": 32,
   "metadata": {},
   "outputs": [],
   "source": [
    "# trades_list.groupby('security_id').apply(lambda x: hit_ratio(x), include_groups=False).rename('hit_ratio').to_frame().join(\n",
    "#     trades_list.groupby('security_id').apply(lambda x: win_loss(x), include_groups=False).rename('win_loss').to_frame())"
   ]
  },
  {
   "cell_type": "code",
   "execution_count": 33,
   "metadata": {},
   "outputs": [
    {
     "data": {
      "image/png": "[encoded data removed]",
      "text/plain": [
       "<Figure size 2000x800 with 1 Axes>"
      ]
     },
     "metadata": {},
     "output_type": "display_data"
    },
    {
     "name": "stdout",
     "output_type": "stream",
     "text": [
      "5th percentile: -0.0169\n"
     ]
    }
   ],
   "source": [
    "# violin_plot_grouped(trades_list, 'security_id', 'daily_return')\n",
    "# violin_plot_grouped(trades_list.sort_values(by='duration'), 'duration', 'daily_return')\n",
    "# violin_plot_grouped(trades_list, 'direction', 'daily_return', figsize=(8,5))\n",
    "plot_histogram(trades_list['daily_return'], 'Distribution of daily returns from all trades', figsize=(20, 8), bins=100)\n",
    "# trades_list.groupby('security_id')['daily_return'].describe()\n",
    "print('5th percentile:', round(trades_list['daily_return'].quantile(0.05), 4))"
   ]
  },
  {
   "cell_type": "code",
   "execution_count": 38,
   "metadata": {},
   "outputs": [
    {
     "data": {
      "text/plain": [
       "104.05136604072499"
      ]
     },
     "execution_count": 38,
     "metadata": {},
     "output_type": "execute_result"
    }
   ],
   "source": [
    "(trades_list['position_dollar_value_open'] * trades_list['sharpe_ratio'] / trades_list['position_dollar_value_open'].sum()).sum()"
   ]
  },
  {
   "cell_type": "code",
   "execution_count": 43,
   "metadata": {},
   "outputs": [
    {
     "data": {
      "text/plain": [
       "<Axes: >"
      ]
     },
     "execution_count": 43,
     "metadata": {},
     "output_type": "execute_result"
    },
    {
     "data": {
      "image/png": "[encoded data removed]",
      "text/plain": [
       "<Figure size 640x480 with 1 Axes>"
      ]
     },
     "metadata": {},
     "output_type": "display_data"
    }
   ],
   "source": [
    "(trades_list['position_dollar_value_open']/trades_list['position_dollar_value_open'].sum()).hist(bins=34)"
   ]
  },
  {
   "cell_type": "code",
   "execution_count": null,
   "metadata": {},
   "outputs": [],
   "source": []
  },
  {
   "cell_type": "code",
   "execution_count": null,
   "metadata": {},
   "outputs": [],
   "source": []
  },
  {
   "cell_type": "code",
   "execution_count": null,
   "metadata": {},
   "outputs": [],
   "source": []
  },
  {
   "cell_type": "code",
   "execution_count": null,
   "metadata": {},
   "outputs": [],
   "source": []
  },
  {
   "cell_type": "code",
   "execution_count": null,
   "metadata": {},
   "outputs": [],
   "source": []
  },
  {
   "cell_type": "code",
   "execution_count": null,
   "metadata": {},
   "outputs": [],
   "source": []
  },
  {
   "cell_type": "markdown",
   "metadata": {},
   "source": [
    "### cHeCks\n",
    "using a rolling window on the price series of respectively 10, 21, 63d I compute the 5th, 15th, 25th percentiles of the distribution and I check, for the Long signal 1, if today's Price is below ALL the 5th, 15th, 25th percentiles.\n"
   ]
  },
  {
   "cell_type": "code",
   "execution_count": null,
   "metadata": {},
   "outputs": [],
   "source": [
    "prova = df[['us_staples']].copy()\n",
    "prova['q5_2w'] = prova['us_staples'].rolling(10).quantile(0.05)\n",
    "prova['q15_1m'] = prova['us_staples'].rolling(21).quantile(0.15)\n",
    "prova['q25_3m'] = prova['us_staples'].rolling(63).quantile(0.25)\n",
    "prova['ma20'] = prova['us_staples'].rolling(20).mean()\n",
    "prova['ma60'] = prova['us_staples'].rolling(60).mean()\n",
    "prova = prova.loc['2014-02-12':].copy()"
   ]
  },
  {
   "cell_type": "code",
   "execution_count": null,
   "metadata": {},
   "outputs": [],
   "source": [
    "prova['s1_long'] = 1 * (\n",
    "    (prova['us_staples'] < prova['q5_2w']) & (prova['us_staples'] < prova['q15_1m']) & (prova['us_staples'] < prova['q25_3m']))\n",
    "prova['s2_long'] = 1 * ((prova['us_staples'] < prova['ma20']) & (prova['us_staples'] < prova['ma60']))\n",
    "\n",
    "prova['long'] = (prova['s1_long']*prova['s2_long'])"
   ]
  },
  {
   "cell_type": "code",
   "execution_count": null,
   "metadata": {},
   "outputs": [
    {
     "data": {
      "text/plain": [
       "dates\n",
       "2014-07-29    1\n",
       "2014-07-30    1\n",
       "2014-07-31    1\n",
       "2014-10-15    1\n",
       "2014-10-16    1\n",
       "             ..\n",
       "2023-10-03    1\n",
       "2023-10-05    1\n",
       "2023-10-06    1\n",
       "2023-10-12    1\n",
       "2023-10-27    1\n",
       "Length: 166, dtype: int64"
      ]
     },
     "execution_count": 29,
     "metadata": {},
     "output_type": "execute_result"
    }
   ],
   "source": [
    "signal_all[signal_all==1]"
   ]
  },
  {
   "cell_type": "code",
   "execution_count": null,
   "metadata": {},
   "outputs": [
    {
     "data": {
      "text/plain": [
       "array([1])"
      ]
     },
     "execution_count": 37,
     "metadata": {},
     "output_type": "execute_result"
    }
   ],
   "source": [
    "prova[prova['s1_long']==1]['s2_long'].unique()"
   ]
  },
  {
   "cell_type": "code",
   "execution_count": null,
   "metadata": {},
   "outputs": [],
   "source": []
  }
 ],
 "metadata": {
  "kernelspec": {
   "display_name": "base",
   "language": "python",
   "name": "python3"
  },
  "language_info": {
   "codemirror_mode": {
    "name": "ipython",
    "version": 3
   },
   "file_extension": ".py",
   "mimetype": "text/x-python",
   "name": "python",
   "nbconvert_exporter": "python",
   "pygments_lexer": "ipython3",
   "version": "3.9.6"
  }
 },
 "nbformat": 4,
 "nbformat_minor": 2
}
