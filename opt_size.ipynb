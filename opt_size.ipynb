{
 "cells": [
  {
   "cell_type": "code",
   "execution_count": 1,
   "metadata": {},
   "outputs": [],
   "source": [
    "import pandas as pd\n",
    "import numpy as np\n",
    "import random\n",
    "import tqdm\n",
    "from project_lib import *"
   ]
  },
  {
   "cell_type": "code",
   "execution_count": 2,
   "metadata": {},
   "outputs": [],
   "source": [
    "DATE_OF_SIMULATION = '2021-03-28'\n",
    "SIGMA_SL = -1\n",
    "SIGMA_TP = 1.5\n",
    "MAX_TRADE_DURATION = 63\n",
    "PTF_VOL_TGT = 0.19\n",
    "AUM_LOST_SL = 0.021"
   ]
  },
  {
   "cell_type": "code",
   "execution_count": 3,
   "metadata": {},
   "outputs": [],
   "source": [
    "df = pd.read_csv('dataset_tmc.csv', parse_dates = ['Dates'], date_format = '%d/%m/%y')\n",
    "df.columns = [i.lower() for i in df.columns]\n",
    "df.columns = [i.replace(' ','_') for i in df.columns]\n",
    "df = df.set_index('dates')\n",
    "\n",
    "# Check NaNs\n",
    "if df.isna().sum().sum() != 0:\n",
    "    print('check NaNs in data')"
   ]
  },
  {
   "cell_type": "code",
   "execution_count": 4,
   "metadata": {},
   "outputs": [
    {
     "name": "stderr",
     "output_type": "stream",
     "text": [
      "  0%|          | 0/100 [00:00<?, ?it/s]"
     ]
    },
    {
     "name": "stderr",
     "output_type": "stream",
     "text": [
      "100%|██████████| 100/100 [00:26<00:00,  3.74it/s]"
     ]
    },
    {
     "name": "stdout",
     "output_type": "stream",
     "text": [
      "Optimal Number of Trades: 46 ± 11 [with avg. portfolio volatility of 19.37%]\n"
     ]
    },
    {
     "name": "stderr",
     "output_type": "stream",
     "text": [
      "\n"
     ]
    }
   ],
   "source": [
    "mc_opt_n_trades(df,\n",
    "                incipit_date = DATE_OF_SIMULATION,\n",
    "                sigma_sl = SIGMA_SL,\n",
    "                sigma_tp = SIGMA_TP,\n",
    "                max_trade_duration = MAX_TRADE_DURATION,\n",
    "                ptf_vol_tgt = PTF_VOL_TGT,\n",
    "                aum_lost_sl = AUM_LOST_SL,\n",
    "                iterations=100)"
   ]
  },
  {
   "cell_type": "code",
   "execution_count": 5,
   "metadata": {},
   "outputs": [
    {
     "name": "stderr",
     "output_type": "stream",
     "text": [
      "100%|██████████| 100/100 [00:26<00:00,  3.82it/s]"
     ]
    },
    {
     "name": "stdout",
     "output_type": "stream",
     "text": [
      "Estimated Portfolio Volatility: 19.33% ± 2.54%\n"
     ]
    },
    {
     "name": "stderr",
     "output_type": "stream",
     "text": [
      "\n"
     ]
    }
   ],
   "source": [
    "mc_fcast_ptf_volatility(df,\n",
    "                incipit_date = DATE_OF_SIMULATION,\n",
    "                sigma_sl = SIGMA_SL,\n",
    "                sigma_tp = SIGMA_TP,\n",
    "                max_trade_duration = MAX_TRADE_DURATION,\n",
    "                number_of_trades = 46,\n",
    "                aum_lost_sl = AUM_LOST_SL,\n",
    "                iterations=100)"
   ]
  },
  {
   "cell_type": "code",
   "execution_count": 4,
   "metadata": {},
   "outputs": [
    {
     "name": "stderr",
     "output_type": "stream",
     "text": [
      "  0%|          | 0/4 [00:00<?, ?it/s]"
     ]
    },
    {
     "name": "stderr",
     "output_type": "stream",
     "text": [
      "100%|██████████| 4/4 [00:18<00:00,  4.60s/it]"
     ]
    },
    {
     "name": "stdout",
     "output_type": "stream",
     "text": [
      "Estimated %AUM lost per trade: 2.0% ± 0.16%\n"
     ]
    },
    {
     "name": "stderr",
     "output_type": "stream",
     "text": [
      "\n"
     ]
    }
   ],
   "source": [
    "mc_perc_aum_lost(df,\n",
    "            incipit_date= DATE_OF_SIMULATION,\n",
    "            sigma_sl = SIGMA_SL,\n",
    "            sigma_tp = SIGMA_TP,\n",
    "            max_trade_duration = MAX_TRADE_DURATION,\n",
    "            ptf_vol_tgt = PTF_VOL_TGT,\n",
    "            number_of_trades = 46,\n",
    "            iterations=4)"
   ]
  },
  {
   "cell_type": "code",
   "execution_count": null,
   "metadata": {},
   "outputs": [],
   "source": []
  }
 ],
 "metadata": {
  "kernelspec": {
   "display_name": "venv",
   "language": "python",
   "name": "python3"
  },
  "language_info": {
   "codemirror_mode": {
    "name": "ipython",
    "version": 3
   },
   "file_extension": ".py",
   "mimetype": "text/x-python",
   "name": "python",
   "nbconvert_exporter": "python",
   "pygments_lexer": "ipython3",
   "version": "3.9.6"
  }
 },
 "nbformat": 4,
 "nbformat_minor": 2
}
