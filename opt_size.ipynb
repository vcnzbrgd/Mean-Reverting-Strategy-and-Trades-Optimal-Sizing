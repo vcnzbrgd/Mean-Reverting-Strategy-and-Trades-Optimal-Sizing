{
 "cells": [
  {
   "cell_type": "code",
   "execution_count": 1,
   "metadata": {},
   "outputs": [],
   "source": [
    "import pandas as pd\n",
    "import numpy as np\n",
    "import random\n",
    "import tqdm"
   ]
  },
  {
   "cell_type": "code",
   "execution_count": 2,
   "metadata": {},
   "outputs": [],
   "source": [
    "SIGMA_SL = -1\n",
    "SIGMA_TP = 1.5\n",
    "MAX_TRADE_DURATION = 63\n",
    "PTF_VOL_TGT = 0.15\n",
    "AUM = 100000\n",
    "AUM_LOST_SL = 0.01"
   ]
  },
  {
   "cell_type": "code",
   "execution_count": 3,
   "metadata": {},
   "outputs": [],
   "source": [
    "df = pd.read_csv('dataset_tmc.csv', parse_dates = ['Dates'], date_format = '%d/%m/%y')\n",
    "df.columns = [i.lower() for i in df.columns]\n",
    "df.columns = [i.replace(' ','_') for i in df.columns]\n",
    "df = df.set_index('dates')\n",
    "\n",
    "# Check NaNs\n",
    "if df.isna().sum().sum() != 0:\n",
    "    print('check NaNs in data')"
   ]
  },
  {
   "cell_type": "code",
   "execution_count": 4,
   "metadata": {},
   "outputs": [],
   "source": [
    "def optimal_number_trades(df,\n",
    "                            incipit_date,\n",
    "                            SIGMA_SL,\n",
    "                            SIGMA_TP,\n",
    "                            MAX_TRADE_DURATION, \n",
    "                            PTF_VOL_TGT,\n",
    "                            AUM, \n",
    "                            AUM_LOST_SL):\n",
    "    \"\"\"\n",
    "    function does....\n",
    "    \"\"\"\n",
    "\n",
    "    if (incipit_date <= '2014-02-12') | (incipit_date >= '2023-02-12'):\n",
    "        raise ValueError('incipit_date must be between 2014-02-12 and 2023-02-12')\n",
    "\n",
    "    # refill Sat&Sun\n",
    "    refilled = df.reindex(pd.date_range(df.index.min(), df.index.max()), method='ffill')\n",
    "\n",
    "    # create list of dates for simulated trades\n",
    "    date_index_reference = df.loc[pd.to_datetime(incipit_date):pd.to_datetime(incipit_date)+pd.DateOffset(years=1)].index\n",
    "    startdates = list(date_index_reference.astype(str))\n",
    "\n",
    "    # create df to store results of the trades\n",
    "    trades_df = pd.DataFrame()\n",
    "    ctrvl_aum = pd.DataFrame(index = date_index_reference)\n",
    "    ctrvl_aum['AUM'] = AUM\n",
    "    ctrvl_pos = pd.DataFrame(index = date_index_reference)\n",
    "\n",
    "    # initialization of portfolio volatility\n",
    "    portfolio_volatility = 0\n",
    "\n",
    "    # generate random trades until portfolio volatility is below target\n",
    "    while portfolio_volatility < PTF_VOL_TGT:\n",
    "        security_id = random.choice(list(df.columns))\n",
    "        trade_entry_date = random.choice(startdates)\n",
    "        direction = random.choice([-1, 1])\n",
    "\n",
    "        # compute 5Y Monthly standard deviation starting from date of trade entry and going backward to compute trade's TP/SL\n",
    "        hist_stdev = refilled.loc[\n",
    "            refilled.index.isin(pd.date_range(end=trade_entry_date, periods=60+1, freq=pd.DateOffset(months=1))), security_id\n",
    "                ].pct_change().dropna().std()\n",
    "        \n",
    "        # create trade's PnL df\n",
    "        trade_pnl = df.loc[trade_entry_date:, [security_id]].head(MAX_TRADE_DURATION+1)\n",
    "        trade_pnl['security_id'] = security_id\n",
    "        trade_pnl['direction'] = direction\n",
    "        trade_pnl['hist_volatility'] = hist_stdev\n",
    "        trade_pnl['entry_price'] = df.loc[trade_entry_date, security_id]\n",
    "        trade_pnl['tp_price'] = trade_pnl['entry_price'] * (1 + hist_stdev * SIGMA_TP * direction)\n",
    "        trade_pnl['sl_price'] = trade_pnl['entry_price'] * (1 + hist_stdev * SIGMA_SL * direction)\n",
    "        trade_pnl['quantity'] = (AUM * AUM_LOST_SL) / ((trade_pnl['entry_price'] - trade_pnl['sl_price']) * direction)\n",
    "\n",
    "        # check if TP/SL have been hitted \n",
    "        if direction == 1:\n",
    "            trade_pnl['tp_hit'] = (trade_pnl[security_id] > trade_pnl['tp_price']) * 1\n",
    "            trade_pnl['sl_hit'] = (trade_pnl[security_id] < trade_pnl['sl_price']) * 1\n",
    "        elif direction == -1:\n",
    "            trade_pnl['tp_hit'] = (trade_pnl[security_id] < trade_pnl['tp_price']) * 1\n",
    "            trade_pnl['sl_hit'] = (trade_pnl[security_id] > trade_pnl['sl_price']) * 1\n",
    "\n",
    "        trade_pnl['tp_sl_hit'] = trade_pnl['tp_hit'] + trade_pnl['sl_hit']\n",
    "\n",
    "        # make exit condition from the trade explicit\n",
    "        if trade_pnl['tp_sl_hit'].sum()==0:\n",
    "            trade_pnl['exit_condition'] = 'max_duration'\n",
    "            trade_pnl['exit_price'] = trade_pnl[security_id].iloc[-1]\n",
    "        else:\n",
    "            trade_pnl = trade_pnl.loc[:trade_pnl[trade_pnl['tp_sl_hit'] == 1].index[0]].copy()\n",
    "            trade_pnl['exit_condition'] = 'stop_loss' if trade_pnl['sl_hit'].sum()==1 else 'take_profit'\n",
    "            trade_pnl['exit_price'] = trade_pnl['sl_price'] if trade_pnl['sl_hit'].sum()==1 else trade_pnl['tp_price']\n",
    "\n",
    "        # first day must be subtracted as it is the day when the trade is open\n",
    "        trade_pnl['duration'] = len(trade_pnl)-1\n",
    "\n",
    "        # store the trade\n",
    "        trades_df = pd.concat([trades_df, trade_pnl[['security_id', 'direction', 'hist_volatility', 'entry_price',\n",
    "            'tp_price', 'sl_price', 'quantity', 'exit_condition', 'exit_price', 'duration']].drop_duplicates()]).sort_index()\n",
    "        \n",
    "        # store controvalore\n",
    "        ctrvl_aum = pd.concat([ctrvl_aum, \n",
    "                        (trade_pnl['entry_price'] * trade_pnl['quantity']).rename(f'{security_id}#{trade_entry_date}')], axis=1)\n",
    "        \n",
    "        ctrvl_pos = pd.concat([ctrvl_pos, \n",
    "                        (trade_pnl[security_id] * trade_pnl['quantity']).rename(f'{security_id}#{trade_entry_date}')], axis=1)\n",
    "        \n",
    "        ctrvl_aum = ctrvl_aum.ffill().fillna(0)\n",
    "        aum_net = ctrvl_aum['AUM'] - ctrvl_aum.iloc[:, 1:].sum(axis=1)\n",
    "\n",
    "        portfolio_volatility = (ctrvl_pos.ffill().fillna(0).sum(axis=1) + aum_net).pct_change().std() * np.sqrt(252)\n",
    "\n",
    "    number_of_trades = len(trades_df)\n",
    "    \n",
    "    return portfolio_volatility, aum_net, ctrvl_pos, trades_df, number_of_trades"
   ]
  },
  {
   "cell_type": "code",
   "execution_count": 13,
   "metadata": {},
   "outputs": [
    {
     "name": "stdout",
     "output_type": "stream",
     "text": [
      "number of trades: 77\n"
     ]
    }
   ],
   "source": [
    "# refill Sat&Sun\n",
    "refilled = df.reindex(pd.date_range(df.index.min(), df.index.max()), method='ffill')\n",
    "\n",
    "incipit_date = '2018-03-12'\n",
    "\n",
    "date_index_reference = df.loc[pd.to_datetime(incipit_date):pd.to_datetime(incipit_date)+pd.DateOffset(years=1)].index\n",
    "startdates = list(date_index_reference.astype(str))\n",
    "\n",
    "\n",
    "trades_df = pd.DataFrame()\n",
    "ctrvl_aum = pd.DataFrame(index = date_index_reference)\n",
    "ctrvl_aum['AUM'] = AUM\n",
    "ctrvl_pos = pd.DataFrame(index = date_index_reference)\n",
    "\n",
    "portfolio_volatility = 0\n",
    "\n",
    "while portfolio_volatility < PTF_VOL_TGT:\n",
    "    security_id = random.choice(list(df.columns))\n",
    "    trade_entry_date = random.choice(startdates)\n",
    "    direction = random.choice([-1, 1])\n",
    "\n",
    "    # compute 5Y Monthly standard deviation starting from date of trade entry and going backward\n",
    "    hist_stdev = refilled.loc[refilled.index.isin(pd.date_range(end=trade_entry_date, periods=60+1, freq=pd.DateOffset(months=1))), security_id\n",
    "                    ].pct_change().dropna().std() #* np.sqrt(12)\n",
    "\n",
    "    trade_pnl = df.loc[trade_entry_date:, [security_id]].head(MAX_TRADE_DURATION+1)\n",
    "    trade_pnl['security_id'] = security_id\n",
    "    trade_pnl['direction'] = direction\n",
    "    trade_pnl['hist_volatility'] = hist_stdev\n",
    "    trade_pnl['entry_price'] = df.loc[trade_entry_date, security_id]\n",
    "    trade_pnl['tp_price'] = trade_pnl['entry_price'] * (1 + hist_stdev * SIGMA_TP * direction)\n",
    "    trade_pnl['sl_price'] = trade_pnl['entry_price'] * (1 + hist_stdev * SIGMA_SL * direction)\n",
    "    trade_pnl['quantity'] = (AUM * AUM_LOST_SL) / ((trade_pnl['entry_price'] - trade_pnl['sl_price']) * direction)\n",
    "\n",
    "    # check if TP/SL have been hitted \n",
    "    if direction == 1:\n",
    "        trade_pnl['tp_hit'] = (trade_pnl[security_id] > trade_pnl['tp_price']) * 1\n",
    "        trade_pnl['sl_hit'] = (trade_pnl[security_id] < trade_pnl['sl_price']) * 1\n",
    "    elif direction == -1:\n",
    "        trade_pnl['tp_hit'] = (trade_pnl[security_id] < trade_pnl['tp_price']) * 1\n",
    "        trade_pnl['sl_hit'] = (trade_pnl[security_id] > trade_pnl['sl_price']) * 1\n",
    "\n",
    "    trade_pnl['tp_sl_hit'] = trade_pnl['tp_hit'] + trade_pnl['sl_hit']\n",
    "\n",
    "    # make exit condition from the trade explicit\n",
    "    if trade_pnl['tp_sl_hit'].sum()==0:\n",
    "        trade_pnl['exit_condition'] = 'max_duration'\n",
    "        trade_pnl['exit_price'] = trade_pnl[security_id].iloc[-1]\n",
    "    else:\n",
    "        trade_pnl = trade_pnl.loc[:trade_pnl[trade_pnl['tp_sl_hit'] == 1].index[0]].copy()\n",
    "        trade_pnl['exit_condition'] = 'stop_loss' if trade_pnl['sl_hit'].sum()==1 else 'take_profit'\n",
    "        trade_pnl['exit_price'] = trade_pnl['sl_price'] if trade_pnl['sl_hit'].sum()==1 else trade_pnl['tp_price']\n",
    "\n",
    "    # first day must be subtracted as it is the day when the trade is open\n",
    "    trade_pnl['duration'] = len(trade_pnl)-1\n",
    "\n",
    "    # store the trade\n",
    "    trades_df = pd.concat([trades_df, trade_pnl[['security_id', 'direction', 'hist_volatility', 'entry_price',\n",
    "       'tp_price', 'sl_price', 'quantity', 'exit_condition', 'exit_price', 'duration']].drop_duplicates()]).sort_index()\n",
    "    \n",
    "    # store controvalore\n",
    "    ctrvl_aum = pd.concat([ctrvl_aum, \n",
    "                    (trade_pnl['entry_price'] * trade_pnl['quantity']).rename(f'{security_id}#{trade_entry_date}')], axis=1)\n",
    "    \n",
    "    ctrvl_pos = pd.concat([ctrvl_pos, \n",
    "                    (trade_pnl[security_id] * trade_pnl['quantity']).rename(f'{security_id}#{trade_entry_date}')], axis=1)\n",
    "    \n",
    "    ctrvl_aum = ctrvl_aum.ffill().fillna(0)\n",
    "    aum_net = ctrvl_aum['AUM'] - ctrvl_aum.iloc[:, 1:].sum(axis=1)\n",
    "\n",
    "    portfolio_volatility = (ctrvl_pos.ffill().fillna(0).sum(axis=1) + aum_net).pct_change().std() * np.sqrt(252)\n",
    "\n",
    "\n",
    "print('number of trades:', len(trades_df))"
   ]
  },
  {
   "cell_type": "code",
   "execution_count": 5,
   "metadata": {},
   "outputs": [
    {
     "name": "stdout",
     "output_type": "stream",
     "text": [
      "0.15113543717991276 137\n"
     ]
    },
    {
     "data": {
      "image/png": "[encoded data removed]",
      "text/plain": [
       "<Figure size 640x480 with 2 Axes>"
      ]
     },
     "metadata": {},
     "output_type": "display_data"
    }
   ],
   "source": [
    "portfolio_volatility, aum_net, ctrvl_pos, trades_df, number_of_trades = optimal_number_trades(df,\n",
    "                            '2017-05-23',\n",
    "                            SIGMA_SL,\n",
    "                            SIGMA_TP,\n",
    "                            MAX_TRADE_DURATION, \n",
    "                            PTF_VOL_TGT,\n",
    "                            AUM, \n",
    "                            AUM_LOST_SL)\n",
    "\n",
    "(ctrvl_pos.ffill().fillna(0).sum(axis=1) + aum_net).plot(color='red')\n",
    "(ctrvl_pos.ffill().fillna(0).sum(axis=1)).plot(color='darkblue', secondary_y=True)\n",
    "(aum_net).plot(color='lightblue', secondary_y=True)\n",
    "print(portfolio_volatility, len(trades_df))"
   ]
  },
  {
   "cell_type": "code",
   "execution_count": 27,
   "metadata": {},
   "outputs": [
    {
     "name": "stderr",
     "output_type": "stream",
     "text": [
      "100%|██████████| 100/100 [00:59<00:00,  1.67it/s]"
     ]
    },
    {
     "name": "stdout",
     "output_type": "stream",
     "text": [
      "optimal number of trades: 105 +/- 15\n"
     ]
    },
    {
     "name": "stderr",
     "output_type": "stream",
     "text": [
      "\n"
     ]
    }
   ],
   "source": [
    "prob_res = {}\n",
    "for i in tqdm.tqdm(range(100)):\n",
    "    portfolio_volatility, aum_net, ctrvl_pos, trades_df, number_of_trades = optimal_number_trades(df,\n",
    "                            '2017-05-23',\n",
    "                            SIGMA_SL,\n",
    "                            SIGMA_TP,\n",
    "                            MAX_TRADE_DURATION, \n",
    "                            PTF_VOL_TGT,\n",
    "                            AUM, \n",
    "                            AUM_LOST_SL)\n",
    "    \n",
    "    prob_res[portfolio_volatility] = number_of_trades\n",
    "\n",
    "prob_res = pd.DataFrame(prob_res, index=['number_of_trades']).T.reset_index().rename({'index':'ptf_volat'}, axis=1)\n",
    "print(f\"optimal number of trades: {round(prob_res['number_of_trades'].mean())} +/- {round(prob_res['number_of_trades'].std())}\")"
   ]
  },
  {
   "cell_type": "code",
   "execution_count": null,
   "metadata": {},
   "outputs": [],
   "source": []
  }
 ],
 "metadata": {
  "kernelspec": {
   "display_name": "venv",
   "language": "python",
   "name": "python3"
  },
  "language_info": {
   "codemirror_mode": {
    "name": "ipython",
    "version": 3
   },
   "file_extension": ".py",
   "mimetype": "text/x-python",
   "name": "python",
   "nbconvert_exporter": "python",
   "pygments_lexer": "ipython3",
   "version": "3.9.6"
  }
 },
 "nbformat": 4,
 "nbformat_minor": 2
}
