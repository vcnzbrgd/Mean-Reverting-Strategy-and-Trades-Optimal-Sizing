{
 "cells": [
  {
   "cell_type": "code",
   "execution_count": 2,
   "metadata": {},
   "outputs": [],
   "source": [
    "from project_lib import *"
   ]
  },
  {
   "cell_type": "code",
   "execution_count": 3,
   "metadata": {},
   "outputs": [],
   "source": [
    "df = pd.read_csv('dataset_tmc.csv', parse_dates = ['Dates'], date_format = '%d/%m/%y')\n",
    "df.columns = [i.lower() for i in df.columns]\n",
    "df.columns = [i.replace(' ','_') for i in df.columns]\n",
    "df = df.set_index('dates')\n",
    "\n",
    "# Check NaNs\n",
    "if df.isna().sum().sum() != 0:\n",
    "    print('check NaNs in data')\n",
    "\n",
    "# Drop Sat&Sun if any\n",
    "df = df[df.index.dayofweek<5]\n",
    "\n",
    "# as convention 1 week is 5 trading days and 1 month is 21 trading days so that each year has 252 trading days\n"
   ]
  },
  {
   "cell_type": "code",
   "execution_count": 4,
   "metadata": {},
   "outputs": [],
   "source": [
    "# STRATEGY PARAMETERS\n",
    "TRADED_SECURITIES = [\n",
    "            'us_staples',\n",
    "            # 'eu_healthcare', 'japan', 'brazil', 'nasdaq', 'us_2y',\n",
    "            # 'us_15y', 'germany_10y', 'uk_15y', 'us_hy', 'oil', 'ind_metals', 'agri',\n",
    "            # 'gold', 'silver', 'eurusd', 'usdjpy', 'chfjpy', 'eurbrl', 'gbpmxn'\n",
    "    ]\n",
    "LONG_PARAMS = {10:0.05, 21:0.15, 63:0.25} # dict with lenght of window as key and percentile for longs as values\n",
    "SHORT_PARAMS = {10:0.95, 21:0.85, 63:0.75} # dict with lenght of window as key and percentile for shorts as values\n",
    "MA_FAST_WDW = 20\n",
    "MA_SLOW_WDW = 60"
   ]
  },
  {
   "cell_type": "code",
   "execution_count": 40,
   "metadata": {},
   "outputs": [],
   "source": [
    "for security_id in TRADED_SECURITIES:\n",
    "    # generate signal based on standard strategy\n",
    "    signal_all = meanrev_signal(\n",
    "                df[security_id],\n",
    "                long_params = LONG_PARAMS,\n",
    "                short_params = SHORT_PARAMS,\n",
    "                ma_fast_wdw = MA_FAST_WDW,\n",
    "                ma_slow_wdw = MA_SLOW_WDW\n",
    "                )\n",
    "    \n",
    "    # \"start your backtest at t-10\". hard coding initial date\n",
    "    signal_all = signal_all.loc['2014-02-12':]\n",
    "    # extract from all signal only the actual open buy/sell triggers\n",
    "    signal_do = signal_all[signal_all!= 0]\n",
    "\n",
    "    trades = []\n",
    "\n",
    "    # iterates over all buy/sell signal and execute orders\n",
    "    for dt_open, direction in zip(signal_do.index, signal_do):\n",
    "        trade_id = security_id+'#'+str(dt_open)[:10]\n",
    "        \n",
    "\n",
    "\n"
   ]
  },
  {
   "cell_type": "code",
   "execution_count": 59,
   "metadata": {},
   "outputs": [
    {
     "data": {
      "text/plain": [
       "dates\n",
       "2024-01-04    72.17\n",
       "2024-01-05    72.01\n",
       "2024-01-08    72.54\n",
       "2024-01-09    72.73\n",
       "2024-01-10    72.58\n",
       "2024-01-11    72.57\n",
       "2024-01-12    72.80\n",
       "2024-01-15    72.80\n",
       "2024-01-16    72.40\n",
       "2024-01-17    72.35\n",
       "2024-01-18    72.26\n",
       "2024-01-19    72.05\n",
       "2024-01-22    71.70\n",
       "2024-01-23    72.48\n",
       "2024-01-24    71.59\n",
       "2024-01-25    72.28\n",
       "2024-01-26    72.63\n",
       "2024-01-29    73.05\n",
       "2024-01-30    73.46\n",
       "2024-01-31    72.92\n",
       "2024-02-01    74.41\n",
       "Name: us_staples, dtype: float64"
      ]
     },
     "execution_count": 59,
     "metadata": {},
     "output_type": "execute_result"
    }
   ],
   "source": [
    "dt_open_idxdf = list(df.index).index(dt_open)\n",
    "\n",
    "df[security_id].iloc[dt_open_idxdf - 20 : dt_open_idxdf+1]"
   ]
  },
  {
   "cell_type": "code",
   "execution_count": 62,
   "metadata": {},
   "outputs": [],
   "source": [
    "def find_stop_loss(s,\n",
    "                   dt_open,\n",
    "                   direction,\n",
    "                   lookback_wdw = 21,\n",
    "                   \n",
    "                   ):\n",
    "\n",
    "    dt_open_idxdf = list(s.index).index(dt_open)\n",
    "    sl_set = s.iloc[dt_open_idxdf - (lookback_wdw-1) : dt_open_idxdf+1]\n",
    "\n",
    "\n",
    "\n",
    "    return sl_set\n"
   ]
  },
  {
   "cell_type": "code",
   "execution_count": 63,
   "metadata": {},
   "outputs": [
    {
     "data": {
      "text/plain": [
       "dates\n",
       "2024-01-04    72.17\n",
       "2024-01-05    72.01\n",
       "2024-01-08    72.54\n",
       "2024-01-09    72.73\n",
       "2024-01-10    72.58\n",
       "2024-01-11    72.57\n",
       "2024-01-12    72.80\n",
       "2024-01-15    72.80\n",
       "2024-01-16    72.40\n",
       "2024-01-17    72.35\n",
       "2024-01-18    72.26\n",
       "2024-01-19    72.05\n",
       "2024-01-22    71.70\n",
       "2024-01-23    72.48\n",
       "2024-01-24    71.59\n",
       "2024-01-25    72.28\n",
       "2024-01-26    72.63\n",
       "2024-01-29    73.05\n",
       "2024-01-30    73.46\n",
       "2024-01-31    72.92\n",
       "2024-02-01    74.41\n",
       "Name: us_staples, dtype: float64"
      ]
     },
     "execution_count": 63,
     "metadata": {},
     "output_type": "execute_result"
    }
   ],
   "source": [
    "find_stop_loss(df[security_id], dt_open, lookback_wdw = 21)"
   ]
  },
  {
   "cell_type": "code",
   "execution_count": null,
   "metadata": {},
   "outputs": [],
   "source": []
  }
 ],
 "metadata": {
  "kernelspec": {
   "display_name": "base",
   "language": "python",
   "name": "python3"
  },
  "language_info": {
   "codemirror_mode": {
    "name": "ipython",
    "version": 3
   },
   "file_extension": ".py",
   "mimetype": "text/x-python",
   "name": "python",
   "nbconvert_exporter": "python",
   "pygments_lexer": "ipython3",
   "version": "3.9.6"
  }
 },
 "nbformat": 4,
 "nbformat_minor": 2
}
