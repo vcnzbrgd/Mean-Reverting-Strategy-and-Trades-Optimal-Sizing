{
 "cells": [
  {
   "cell_type": "code",
   "execution_count": 2,
   "metadata": {},
   "outputs": [
    {
     "ename": "ModuleNotFoundError",
     "evalue": "No module named 'project_lib'",
     "output_type": "error",
     "traceback": [
      "\u001b[0;31m---------------------------------------------------------------------------\u001b[0m",
      "\u001b[0;31mModuleNotFoundError\u001b[0m                       Traceback (most recent call last)",
      "Cell \u001b[0;32mIn[2], line 1\u001b[0m\n\u001b[0;32m----> 1\u001b[0m \u001b[38;5;28;01mfrom\u001b[39;00m \u001b[38;5;21;01mproject_lib\u001b[39;00m \u001b[38;5;28;01mimport\u001b[39;00m \u001b[38;5;241m*\u001b[39m\n",
      "\u001b[0;31mModuleNotFoundError\u001b[0m: No module named 'project_lib'"
     ]
    }
   ],
   "source": [
    "from project_lib import *"
   ]
  },
  {
   "cell_type": "code",
   "execution_count": 16,
   "metadata": {},
   "outputs": [],
   "source": [
    "df = pd.read_csv('dataset_tmc.csv', parse_dates = ['Dates'], date_format = '%d/%m/%y')\n",
    "df.columns = [i.lower() for i in df.columns]\n",
    "df.columns = [i.replace(' ','_') for i in df.columns]\n",
    "df = df.set_index('dates')\n",
    "\n",
    "# Check NaNs\n",
    "if df.isna().sum().sum() != 0:\n",
    "    print('check NaNs in data')\n",
    "\n",
    "# Drop Sat&Sun if any\n",
    "df = df[df.index.dayofweek<5]\n",
    "\n",
    "# as convention 2 weeks is 10 trading days, 1 month is 21 trading days so that each year has 252 trading days\n"
   ]
  },
  {
   "cell_type": "code",
   "execution_count": null,
   "metadata": {},
   "outputs": [],
   "source": [
    "# STRATEGY PARAMETERS\n",
    "LONG_PARAMS = {10:0.05, 21:0.15, 63:0.25} # dict with lenght of window as key and percentile for longs as values\n",
    "SHORT_PARAMS = {10:0.95, 21:0.85, 63:0.75} # dict with lenght of window as key and percentile for shorts as values\n",
    "MA_FAST_WDW = 20\n",
    "MA_SLOW_WDW = 60"
   ]
  },
  {
   "cell_type": "code",
   "execution_count": 18,
   "metadata": {},
   "outputs": [
    {
     "name": "stdout",
     "output_type": "stream",
     "text": [
      "us_staples\n"
     ]
    }
   ],
   "source": [
    "for security_id in df.columns[:1]:\n",
    "    "
   ]
  },
  {
   "cell_type": "code",
   "execution_count": 197,
   "metadata": {},
   "outputs": [],
   "source": [
    "def meanrev_signal(s,\n",
    "                   long_params={10:0.05, 21:0.15, 63:0.25},\n",
    "                   short_params={10:0.95, 21:0.85, 63:0.75},\n",
    "                   ma_fast_wdw = 20,\n",
    "                   ma_slow_wdw = 60\n",
    "                   ):\n",
    "\n",
    "    \"\"\"\n",
    "    Calculate mean reversion signals for a given price series.\n",
    "    \n",
    "    This function generates trading signals based on the mean reversion strategy.\n",
    "    It considers both long and short positions based on price quantiles and moving averages.\n",
    "    \n",
    "    Parameters:\n",
    "    - s (pd.Series): The price series to analyze.\n",
    "    - long_params (dict): Parameters for generating long signals, where keys are window lengths and values are quantiles.\n",
    "    - short_params (dict): Parameters for generating short signals, where keys are window lengths and values are quantiles.\n",
    "    - ma_fast_wdw (int): Window length for the fast moving average.\n",
    "    - ma_slow_wdw (int): Window length for the slow moving average.\n",
    "    \n",
    "    Returns:\n",
    "    - pd.Series: A series of signals where 1 represents a long signal, -1 represents a short signal, and 0 represents no signal.\n",
    "    \"\"\"\n",
    "\n",
    "\n",
    "    # long signal 1\n",
    "    signal_long1 = pd.DataFrame()\n",
    "\n",
    "    for k,v in long_params.items():\n",
    "        signal_long1[f'qtle_px{k}'] = s.rolling(k).quantile(v)\n",
    "\n",
    "    signal_long1 = (s < signal_long1.min(axis=1)) * 1 \n",
    "\n",
    "    # short signal 1\n",
    "    signal_short1 = pd.DataFrame()\n",
    "\n",
    "    for k,v in short_params.items():\n",
    "        signal_short1[f'qtle_px{k}'] = s.rolling(k).quantile(v)\n",
    "\n",
    "    signal_short1 = (s > signal_short1.max(axis=1)) * -1\n",
    "\n",
    "    \n",
    "    ma_fast = s.rolling(ma_fast_wdw).mean()\n",
    "    ma_slow = s.rolling(ma_slow_wdw).mean()\n",
    "    \n",
    "    # long signal 2\n",
    "    signal_long2 = ((s < ma_fast) & (s < ma_slow)) * 1 # vado long se prezzo minore di entrambe medie mobili???\n",
    "\n",
    "    # short signal 2\n",
    "    signal_short2 = ((s > ma_fast) & (s > ma_slow)) * 1 # vado short se prezzo maggiore di entrambe medie mobili???\n",
    "\n",
    "    # make intersection of the two signals\n",
    "    signal_long = (signal_long1 * signal_long2)\n",
    "    signal_short = (signal_short1 * signal_short2)\n",
    "\n",
    "    signal = signal_long + signal_short\n",
    "\n",
    "    return signal\n",
    "\n",
    "\n"
   ]
  },
  {
   "cell_type": "code",
   "execution_count": null,
   "metadata": {},
   "outputs": [],
   "source": []
  }
 ],
 "metadata": {
  "kernelspec": {
   "display_name": "base",
   "language": "python",
   "name": "python3"
  },
  "language_info": {
   "codemirror_mode": {
    "name": "ipython",
    "version": 3
   },
   "file_extension": ".py",
   "mimetype": "text/x-python",
   "name": "python",
   "nbconvert_exporter": "python",
   "pygments_lexer": "ipython3",
   "version": "3.9.6"
  }
 },
 "nbformat": 4,
 "nbformat_minor": 2
}
